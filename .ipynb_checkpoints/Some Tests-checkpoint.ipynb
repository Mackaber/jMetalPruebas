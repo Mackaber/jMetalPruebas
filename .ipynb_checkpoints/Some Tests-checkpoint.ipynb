{
 "cells": [
  {
   "cell_type": "code",
   "execution_count": 4,
   "metadata": {},
   "outputs": [
    {
     "data": {
      "text/plain": [
       "null"
      ]
     },
     "execution_count": 4,
     "metadata": {},
     "output_type": "execute_result"
    }
   ],
   "source": [
    "package test.thing;\n",
    "\n",
    "String str = \"Hello\";"
   ]
  },
  {
   "cell_type": "code",
   "execution_count": 3,
   "metadata": {},
   "outputs": [
    {
     "ename": "cannot find symbol",
     "evalue": "cannot find symbol",
     "output_type": "error",
     "traceback": [
      "\u001b[1;31mcannot find symbol\u001b[0;0m",
      "\u001b[1;31m  symbol:   variable str\u001b[0;0m",
      "\u001b[0;31m  location: class com.twosigma.beaker.javash.bkr8ea9430c.BeakerWrapperClass1261714175Id35f8f8f23f0c48ce9fdb401b354f2126\u001b[0;0m",
      "\u001b[0;31m System.out.print(str)\u001b[0;0m",
      "\u001b[0;31m                  ^  ^  \u001b[0;0m"
     ]
    }
   ],
   "source": [
    "package test.thing;\n",
    "\n",
    "System.out.print(str);"
   ]
  }
 ],
 "metadata": {
  "kernelspec": {
   "display_name": "Java",
   "language": "java",
   "name": "java"
  },
  "language_info": {
   "codemirror_mode": "text/x-java",
   "file_extension": ".java",
   "mimetype": "",
   "name": "Java",
   "nbconverter_exporter": "",
   "version": "1.8.0_121"
  }
 },
 "nbformat": 4,
 "nbformat_minor": 2
}
