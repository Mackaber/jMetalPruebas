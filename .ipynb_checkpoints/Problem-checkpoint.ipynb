{
 "cells": [
  {
   "cell_type": "code",
   "execution_count": 1,
   "metadata": {},
   "outputs": [
    {
     "data": {
      "application/vnd.jupyter.widget-view+json": {
       "model_id": "",
       "version_major": 2,
       "version_minor": 0
      },
      "method": "display_data"
     },
     "metadata": {},
     "output_type": "display_data"
    },
    {
     "data": {
      "application/vnd.jupyter.widget-view+json": {
       "model_id": "0ac99201-0b9c-4661-a858-4bffc5d16480",
       "version_major": 2,
       "version_minor": 0
      },
      "method": "display_data"
     },
     "metadata": {},
     "output_type": "display_data"
    },
    {
     "data": {
      "application/vnd.jupyter.widget-view+json": {
       "model_id": "",
       "version_major": 2,
       "version_minor": 0
      },
      "method": "display_data"
     },
     "metadata": {},
     "output_type": "display_data"
    },
    {
     "data": {
      "application/vnd.jupyter.widget-view+json": {
       "model_id": "abcbe518-cfa6-4dba-b654-bd2875300c50",
       "version_major": 2,
       "version_minor": 0
      },
      "method": "display_data"
     },
     "metadata": {},
     "output_type": "display_data"
    },
    {
     "data": {
      "application/vnd.jupyter.widget-view+json": {
       "model_id": "",
       "version_major": 2,
       "version_minor": 0
      },
      "method": "display_data"
     },
     "metadata": {},
     "output_type": "display_data"
    },
    {
     "data": {
      "application/vnd.jupyter.widget-view+json": {
       "model_id": "",
       "version_major": 2,
       "version_minor": 0
      },
      "method": "display_data"
     },
     "metadata": {},
     "output_type": "display_data"
    },
    {
     "data": {
      "application/vnd.jupyter.widget-view+json": {
       "model_id": "f6a782de-e8b7-4df0-9427-dd19e33968de",
       "version_major": 2,
       "version_minor": 0
      },
      "method": "display_data"
     },
     "metadata": {},
     "output_type": "display_data"
    }
   ],
   "source": [
    "%classpath add mvn org.uma.jmetal jmetal-problem 5.5.2\n",
    "%classpath add mvn org.uma.jmetal jmetal-algorithm 5.5.2\n",
    "%classpath add mvn org.uma.jmetal jmetal-core 5.5.2\n",
    "%classpath add mvn org.uma.jmetal jmetal-exec 5.5.2"
   ]
  },
  {
   "cell_type": "markdown",
   "metadata": {},
   "source": [
    "## Plotting Stuff"
   ]
  },
  {
   "cell_type": "code",
   "execution_count": null,
   "metadata": {},
   "outputs": [],
   "source": [
    "import org.uma.jmetal.util.front.imp.ArrayFront\n",
    "\n",
    "def iterator(size,valuefun){\n",
    "    r = new ArrayList()\n",
    "    for(int i = 0;i<size;i++) {\n",
    "        r.add(valuefun.call(i))\n",
    "    }\n",
    "    return r\n",
    "}\n",
    "\n",
    "plotFronts = {refFile,obj ->\n",
    "    ref = new ArrayFront(refFile)\n",
    "    \n",
    "    xRef = iterator(ref.getNumberOfPoints(),{i -> ref.getPoint(i).getValues()[0]})\n",
    "    yRef = iterator(ref.getNumberOfPoints(),{i -> ref.getPoint(i).getValues()[1]})\n",
    "    xObj = iterator(obj.size(),{i -> obj.get(i).getObjective(0)})\n",
    "    yObj = iterator(obj.size(),{i -> obj.get(i).getObjective(1)})\n",
    "\n",
    "    plot = new Plot()    \n",
    "    plot  << new Points(x: xRef, y: yRef, displayName: \"Reference Front\") \\\n",
    "          << new Points(x: xObj, y: yObj, displayName: \"Objective Function\") \\\n",
    "\n",
    "    plot.display()\n",
    "}"
   ]
  },
  {
   "cell_type": "markdown",
   "metadata": {},
   "source": [
    "## Problem Definition"
   ]
  },
  {
   "cell_type": "code",
   "execution_count": 21,
   "metadata": {},
   "outputs": [
    {
     "ename": "unexpected token",
     "evalue": " [ @ line 32, column 9.   f = new [getNumberOfObjectives()];",
     "output_type": "error",
     "traceback": [
      "\u001b[1;31munexpected token: [ @ line 32, column 9.   f = new [getNumberOfObjectives()];\u001b[0;0m",
      "\u001b[1;31m           ^\u001b[0;0m",
      "\u001b[1;31m\u001b[0;0m",
      "\u001b[1;31m1 error\u001b[0;0m",
      "\u001b[1;31m\u001b[0;0m",
      "\u001b[0;31m\tat com.twosigma.beakerx.groovy.evaluator.GroovyCodeRunner.call(GroovyCodeRunner.java:57)\u001b[0;0m",
      "\u001b[0;31m\tat com.twosigma.beakerx.groovy.evaluator.GroovyCodeRunner.call(GroovyCodeRunner.java:34)\u001b[0;0m"
     ]
    }
   ],
   "source": [
    "import org.uma.jmetal.problem.impl.AbstractDoubleProblem;\n",
    "import org.uma.jmetal.solution.DoubleSolution;\n",
    "import java.util.ArrayList;\n",
    "import java.util.List;\n",
    "\n",
    "public class Fonseca extends AbstractDoubleProblem {\n",
    "\n",
    "  /** Constructor */\n",
    "  public Fonseca()  {\n",
    "    setNumberOfVariables(3);\n",
    "    setNumberOfObjectives(2);\n",
    "    setNumberOfConstraints(0);\n",
    "    setName(\"Fonseca\");\n",
    "\n",
    "    List<Double> lowerLimit = new ArrayList<>(getNumberOfVariables()) ;\n",
    "    List<Double> upperLimit = new ArrayList<>(getNumberOfVariables()) ;\n",
    "\n",
    "    for (int i = 0; i < getNumberOfVariables(); i++) {\n",
    "      lowerLimit.add(-4.0);\n",
    "      upperLimit.add(4.0);\n",
    "    }\n",
    "\n",
    "    setLowerLimit(lowerLimit);\n",
    "    setUpperLimit(upperLimit);\n",
    "  }\n",
    "\n",
    "  /** Evaluate() method */\n",
    "  @Override\n",
    "  public void evaluate(DoubleSolution solution) {\n",
    "    numberOfVariables = getNumberOfVariables() ;\n",
    "\n",
    "    f = new double[getNumberOfObjectives()];\n",
    "    x = new double[numberOfVariables] ;\n",
    "\n",
    "    i = 0\n",
    "    for (int i = 0; i < numberOfVariables; i++) {\n",
    "      x[i] = solution.getVariableValue(i) ;\n",
    "    }\n",
    "\n",
    "    sum1 = 0.0;\n",
    "    for (int i = 0; i < numberOfVariables; i++) {\n",
    "      sum1 += StrictMath.pow(x[i] - (1.0 / StrictMath.sqrt(numberOfVariables)), 2.0);\n",
    "    }\n",
    "    \n",
    "      exp1 = StrictMath.exp((-1.0) * sum1);\n",
    "    f[0] = 1 - exp1;\n",
    "\n",
    "    sum2 = 0.0;\n",
    "    for (int i = 0; i < numberOfVariables; i++) {\n",
    "      sum2 += StrictMath.pow(x[i] + (1.0 / StrictMath.sqrt(numberOfVariables)), 2.0);\n",
    "    }\n",
    "    \n",
    "    exp2 = StrictMath.exp((-1.0) * sum2);\n",
    "    f[1] = 1 - exp2;\n",
    "\n",
    "    solution.setObjective(0, f[0]);\n",
    "    solution.setObjective(1, f[1]);\n",
    "  }\n",
    "}"
   ]
  },
  {
   "cell_type": "code",
   "execution_count": 18,
   "metadata": {},
   "outputs": [
    {
     "data": {
      "text/plain": [
       "org.uma.jmetal.operator.impl.selection.BinaryTournamentSelection@5699d829"
      ]
     },
     "execution_count": 18,
     "metadata": {},
     "output_type": "execute_result"
    }
   ],
   "source": [
    "import org.uma.jmetal.operator.impl.crossover.SBXCrossover\n",
    "import org.uma.jmetal.operator.impl.mutation.PolynomialMutation\n",
    "import org.uma.jmetal.operator.impl.selection.BinaryTournamentSelection\n",
    "import org.uma.jmetal.util.ProblemUtils\n",
    "import org.uma.jmetal.util.comparator.RankingAndCrowdingDistanceComparator\n",
    "\n",
    "//problem = ProblemUtils.loadProblem(\"org.uma.jmetal.problem.multiobjective.zdt.ZDT1\");\n",
    "problem = new Fonseca()\n",
    "\n",
    "crossoverProbability = 0.9\n",
    "crossoverDistributionIndex = 20.0\n",
    "crossover = new SBXCrossover(crossoverProbability, crossoverDistributionIndex)\n",
    "\n",
    "mutationProbability = 1.0 / problem.getNumberOfVariables()\n",
    "mutationDistributionIndex = 20.0\n",
    "mutation = new PolynomialMutation(mutationProbability, mutationDistributionIndex)\n",
    "\n",
    "selection = new BinaryTournamentSelection<>(\n",
    "    new RankingAndCrowdingDistanceComparator<>())"
   ]
  },
  {
   "cell_type": "code",
   "execution_count": 19,
   "metadata": {},
   "outputs": [
    {
     "data": {
      "text/plain": [
       "Fonseca@44178f99"
      ]
     },
     "execution_count": 19,
     "metadata": {},
     "output_type": "execute_result"
    }
   ],
   "source": [
    "problem"
   ]
  },
  {
   "cell_type": "code",
   "execution_count": 20,
   "metadata": {},
   "outputs": [
    {
     "name": "stderr",
     "output_type": "stream",
     "text": [
      "Exception in thread \"Thread-16\" java.lang.ClassCastException: java.math.BigDecimal cannot be cast to java.lang.Double\n",
      "\tat org.uma.jmetal.problem.impl.AbstractDoubleProblem.getLowerBound(AbstractDoubleProblem.java:24)\n",
      "\tat org.uma.jmetal.solution.impl.DefaultDoubleSolution.getLowerBound(DefaultDoubleSolution.java:48)\n",
      "\tat org.uma.jmetal.solution.impl.DefaultDoubleSolution.initializeDoubleVariables(DefaultDoubleSolution.java:63)\n",
      "\tat org.uma.jmetal.solution.impl.DefaultDoubleSolution.<init>(DefaultDoubleSolution.java:22)\n",
      "\tat org.uma.jmetal.problem.impl.AbstractDoubleProblem.createSolution(AbstractDoubleProblem.java:38)\n",
      "\tat org.uma.jmetal.problem.impl.AbstractDoubleProblem.createSolution(AbstractDoubleProblem.java:9)\n",
      "\tat org.uma.jmetal.algorithm.impl.AbstractGeneticAlgorithm.createInitialPopulation(AbstractGeneticAlgorithm.java:60)\n",
      "\tat org.uma.jmetal.algorithm.impl.AbstractEvolutionaryAlgorithm.run(AbstractEvolutionaryAlgorithm.java:56)\n",
      "\tat java.lang.Thread.run(Thread.java:745)\n"
     ]
    },
    {
     "ename": "java.lang.NullPointerException",
     "evalue": "java.lang.NullPointerException",
     "output_type": "error",
     "traceback": [
      "\u001b[1;31mjava.lang.NullPointerException\u001b[0;0m",
      "\u001b[1;31m\tat org.uma.jmetal.util.solutionattribute.impl.DominanceRanking.computeRanking(DominanceRanking.java:62)\u001b[0;0m",
      "\u001b[1;31m\tat org.uma.jmetal.util.SolutionListUtils.getNondominatedSolutions(SolutionListUtils.java:25)\u001b[0;0m",
      "\u001b[1;31m\tat org.uma.jmetal.algorithm.multiobjective.nsgaii.NSGAII.getNonDominatedSolutions(NSGAII.java:91)\u001b[0;0m",
      "\u001b[1;31m\tat org.uma.jmetal.algorithm.multiobjective.nsgaii.NSGAII.getResult(NSGAII.java:87)\u001b[0;0m",
      "\u001b[1;31m\tat org.uma.jmetal.algorithm.multiobjective.nsgaii.NSGAII.getResult(NSGAII.java:21)\u001b[0;0m",
      "\u001b[1;31m\tat org.uma.jmetal.algorithm.Algorithm$getResult.call(Unknown Source)\u001b[0;0m",
      "\u001b[1;31m\tat this cell line 14\u001b[0;0m",
      "\u001b[0;31m\tat com.twosigma.beakerx.groovy.evaluator.GroovyCodeRunner.runScript(GroovyCodeRunner.java:96)\u001b[0;0m",
      "\u001b[0;31m\tat com.twosigma.beakerx.groovy.evaluator.GroovyCodeRunner.call(GroovyCodeRunner.java:61)\u001b[0;0m",
      "\u001b[0;31m\tat com.twosigma.beakerx.groovy.evaluator.GroovyCodeRunner.call(GroovyCodeRunner.java:34)\u001b[0;0m"
     ]
    }
   ],
   "source": [
    "import org.uma.jmetal.algorithm.multiobjective.nsgaii.NSGAIIBuilder\n",
    "import org.uma.jmetal.util.AbstractAlgorithmRunner\n",
    "import org.uma.jmetal.util.AlgorithmRunner\n",
    "\n",
    "algorithm = new NSGAIIBuilder<>(problem, crossover, mutation)\n",
    "    .setSelectionOperator(selection)\n",
    "    .setMaxEvaluations(35000)\n",
    "    .setPopulationSize(100)\n",
    "    .build()\n",
    "\n",
    "algorithmRunner = new AlgorithmRunner.Executor(algorithm)\n",
    "    .execute()\n",
    "\n",
    "population = algorithm.getResult()\n",
    "plotFronts(referenceParetoFrontFile,population)\n",
    "AbstractAlgorithmRunner.printQualityIndicators(population, referenceParetoFrontFile)\n",
    "computingTime = algorithmRunner.getComputingTime()\n",
    "\"Total execution time: \" + computingTime + \"ms\""
   ]
  }
 ],
 "metadata": {
  "kernelspec": {
   "display_name": "Groovy",
   "language": "groovy",
   "name": "groovy"
  },
  "language_info": {
   "codemirror_mode": "groovy",
   "file_extension": ".groovy",
   "mimetype": "",
   "name": "Groovy",
   "nbconverter_exporter": "",
   "version": "2.4.3"
  }
 },
 "nbformat": 4,
 "nbformat_minor": 2
}
