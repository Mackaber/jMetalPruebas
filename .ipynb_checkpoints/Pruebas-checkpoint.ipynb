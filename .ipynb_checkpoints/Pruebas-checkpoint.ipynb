{
 "cells": [
  {
   "cell_type": "markdown",
   "metadata": {},
   "source": [
    "## Load the Libraries"
   ]
  },
  {
   "cell_type": "code",
   "execution_count": 37,
   "metadata": {},
   "outputs": [
    {
     "data": {
      "application/vnd.jupyter.widget-view+json": {
       "model_id": "",
       "version_major": 2,
       "version_minor": 0
      },
      "method": "display_data"
     },
     "metadata": {},
     "output_type": "display_data"
    },
    {
     "data": {
      "application/vnd.jupyter.widget-view+json": {
       "model_id": "",
       "version_major": 2,
       "version_minor": 0
      },
      "method": "display_data"
     },
     "metadata": {},
     "output_type": "display_data"
    },
    {
     "data": {
      "application/vnd.jupyter.widget-view+json": {
       "model_id": "",
       "version_major": 2,
       "version_minor": 0
      },
      "method": "display_data"
     },
     "metadata": {},
     "output_type": "display_data"
    },
    {
     "data": {
      "application/vnd.jupyter.widget-view+json": {
       "model_id": "",
       "version_major": 2,
       "version_minor": 0
      },
      "method": "display_data"
     },
     "metadata": {},
     "output_type": "display_data"
    }
   ],
   "source": [
    "%classpath add mvn org.uma.jmetal jmetal-problem 5.5.2\n",
    "%classpath add mvn org.uma.jmetal jmetal-algorithm 5.5.2\n",
    "%classpath add mvn org.uma.jmetal jmetal-core 5.5.2\n",
    "%classpath add mvn org.uma.jmetal jmetal-exec 5.5.2"
   ]
  },
  {
   "cell_type": "code",
   "execution_count": 114,
   "metadata": {},
   "outputs": [
    {
     "ename": "groovy.lang.MissingPropertyException",
     "evalue": " No such property",
     "output_type": "error",
     "traceback": [
      "\u001b[1;31mgroovy.lang.MissingPropertyException: No such property: j for class: script1528392284220\u001b[0;0m",
      "\u001b[1;31m\tat this cell line 19\u001b[0;0m",
      "\u001b[0;31m\tat com.twosigma.beakerx.groovy.evaluator.GroovyCodeRunner.runScript(GroovyCodeRunner.java:96)\u001b[0;0m",
      "\u001b[0;31m\tat com.twosigma.beakerx.groovy.evaluator.GroovyCodeRunner.call(GroovyCodeRunner.java:61)\u001b[0;0m",
      "\u001b[0;31m\tat com.twosigma.beakerx.groovy.evaluator.GroovyCodeRunner.call(GroovyCodeRunner.java:34)\u001b[0;0m"
     ]
    }
   ],
   "source": [
    "import org.uma.jmetal.algorithm.Algorithm;\n",
    "import org.uma.jmetal.algorithm.multiobjective.nsgaii.NSGAIIBuilder;\n",
    "import org.uma.jmetal.operator.CrossoverOperator;\n",
    "import org.uma.jmetal.operator.MutationOperator;\n",
    "import org.uma.jmetal.operator.SelectionOperator;\n",
    "import org.uma.jmetal.operator.impl.crossover.SBXCrossover;\n",
    "import org.uma.jmetal.operator.impl.mutation.PolynomialMutation;\n",
    "import org.uma.jmetal.operator.impl.selection.BinaryTournamentSelection;\n",
    "import org.uma.jmetal.problem.Problem;\n",
    "import org.uma.jmetal.solution.DoubleSolution;\n",
    "import org.uma.jmetal.util.AlgorithmRunner;\n",
    "import org.uma.jmetal.util.ProblemUtils;\n",
    "import org.uma.jmetal.util.comparator.RankingAndCrowdingDistanceComparator;\n",
    "import org.uma.jmetal.util.front.Front;\n",
    "import org.uma.jmetal.util.front.imp.ArrayFront;\n",
    "\n",
    "problemName = \"org.uma.jmetal.problem.multiobjective.zdt.ZDT1\"\n",
    "referenceParetoFrontFile = \"jMetal/jmetal-core/src/main/resources/pareto_fronts/Golinski.pf\"\n",
    "j\n",
    "problem = ProblemUtils.loadProblem(problemName)\n",
    "\n",
    "crossoverProbability = 0.5\n",
    "crossoverDistributionIndex = 20.0\n",
    "crossover = new SBXCrossover(crossoverProbability, crossoverDistributionIndex)\n",
    "\n",
    "mutationProbability = 1.0 / problem.getNumberOfVariables()\n",
    "mutationDistributionIndex = 20.0 ;\n",
    "mutation = new PolynomialMutation(mutationProbability, mutationDistributionIndex)\n",
    "\n",
    "selection = new BinaryTournamentSelection<DoubleSolution>(\n",
    "    new RankingAndCrowdingDistanceComparator<DoubleSolution>())\n",
    "\n",
    "algorithm = new NSGAIIBuilder<DoubleSolution>(problem, crossover, mutation)\n",
    "    .setSelectionOperator(selection)\n",
    "    .setMaxEvaluations(250)\n",
    "    .setPopulationSize(100)\n",
    "    .build()\n",
    "\n",
    "algorithmRunner = new AlgorithmRunner.Executor(algorithm)\n",
    "    .execute()\n",
    "\n",
    "population = algorithm.getResult()\n",
    "OutputCell.HIDDEN"
   ]
  },
  {
   "cell_type": "code",
   "execution_count": 112,
   "metadata": {},
   "outputs": [
    {
     "data": {
      "application/vnd.jupyter.widget-view+json": {
       "model_id": "94de2426-1323-4762-87bb-ea2b3ab0ae95",
       "version_major": 2,
       "version_minor": 0
      },
      "method": "display_data"
     },
     "metadata": {},
     "output_type": "display_data"
    },
    {
     "data": {
      "text/plain": [
       "null"
      ]
     },
     "execution_count": 112,
     "metadata": {},
     "output_type": "execute_result"
    }
   ],
   "source": [
    "import org.uma.jmetal.util.front.Front\n",
    "import org.uma.jmetal.util.front.imp.ArrayFront\n",
    "\n",
    "def iterator(size,valuefun){\n",
    "    r = new ArrayList()\n",
    "    for(int i = 0;i<size;i++) {\n",
    "        r.add(valuefun.call(i))\n",
    "    }\n",
    "    return r\n",
    "}\n",
    "\n",
    "referenceFront = new ArrayFront(referenceParetoFrontFile)\n",
    "\n",
    "xRef = iterator(referenceFront.getNumberOfPoints(),{i -> referenceFront.getPoint(i).getValues()[0]})\n",
    "yRef = iterator(referenceFront.getNumberOfPoints(),{i -> referenceFront.getPoint(i).getValues()[1]})\n",
    "xObj = iterator(population.size(),{i -> population.get(i).getObjective(0)})\n",
    "yObj = iterator(population.size(),{i -> population.get(i).getObjective(1)})\n",
    "\n",
    "plot = new Plot()    \n",
    "plot  << new Points(x: xRef, y: yRef, displayName: \"Reference Front\") \\\n",
    "      << new Points(x: xObj, y: yObj, displayName: \"Objective Function\") \\\n",
    "\n",
    "plot.display()"
   ]
  },
  {
   "cell_type": "code",
   "execution_count": 101,
   "metadata": {},
   "outputs": [
    {
     "name": "stderr",
     "output_type": "stream",
     "text": [
      "2018-06-07 12:20:16.379 INFO: Total execution time: 264ms [java_util_logging_Logger$info call]\n",
      "2018-06-07 12:20:16.387 INFO: Random seed: 1528328086276 [org.uma.jmetal.util.AbstractAlgorithmRunner printFinalSolutionSet]\n",
      "2018-06-07 12:20:16.387 INFO: Objectives values have been written to file FUN.tsv [org.uma.jmetal.util.AbstractAlgorithmRunner printFinalSolutionSet]\n",
      "2018-06-07 12:20:16.388 INFO: Variables values have been written to file VAR.tsv [org.uma.jmetal.util.AbstractAlgorithmRunner printFinalSolutionSet]\n",
      "2018-06-07 12:20:16.405 INFO: \n",
      "Hypervolume (N) : 0.6583798986712665\n",
      "Hypervolume     : 0.6583798986712665\n",
      "Epsilon (N)     : 0.012750097719068487\n",
      "Epsilon         : 0.012750097719068487\n",
      "GD (N)          : 3.0511656104627874E-4\n",
      "GD              : 3.0511656104627874E-4\n",
      "IGD (N)         : 1.978108777852757E-4\n",
      "IGD             : 1.978108777852757E-4\n",
      "IGD+ (N)        : 0.004373535569066044\n",
      "IGD+            : 0.004373535569066044\n",
      "Spread (N)      : 0.40143226753970457\n",
      "Spread          : 0.40143226753970457\n",
      "Error ratio     : 1.0\n",
      " [org.uma.jmetal.util.AbstractAlgorithmRunner printQualityIndicators]\n"
     ]
    },
    {
     "data": {
      "text/plain": [
       "null"
      ]
     },
     "execution_count": 101,
     "metadata": {},
     "output_type": "execute_result"
    }
   ],
   "source": [
    "import org.uma.jmetal.util.JMetalLogger\n",
    "import org.uma.jmetal.util.AbstractAlgorithmRunner\n",
    "\n",
    "computingTime = algorithmRunner.getComputingTime()\n",
    "\n",
    "JMetalLogger.logger.info(\"Total execution time: \" + computingTime + \"ms\")\n",
    "\n",
    "AbstractAlgorithmRunner.printFinalSolutionSet(population)\n",
    "if (!referenceParetoFrontFile.equals(\"\")) {\n",
    "  AbstractAlgorithmRunner.printQualityIndicators(population, referenceParetoFrontFile)\n",
    "}"
   ]
  }
 ],
 "metadata": {
  "kernelspec": {
   "display_name": "Groovy",
   "language": "groovy",
   "name": "groovy"
  },
  "language_info": {
   "codemirror_mode": "groovy",
   "file_extension": ".groovy",
   "mimetype": "",
   "name": "Groovy",
   "nbconverter_exporter": "",
   "version": "2.4.3"
  }
 },
 "nbformat": 4,
 "nbformat_minor": 2
}
